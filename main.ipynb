{
 "cells": [
  {
   "cell_type": "code",
   "execution_count": null,
   "id": "81e5dc7e",
   "metadata": {},
   "outputs": [],
   "source": [
    "import os\n",
    "import subprocess\n",
    "import sys\n",
    "\n",
    "requirements = [\n",
    "    \"pip\",\n",
    "    \"transformers\",\n",
    "    \"accelerate\",\n",
    "    \"datasets\",\n",
    "    \"sentencepiece\",\n",
    "    \"PyPDF2\",\n",
    "    \"tqdm\",\n",
    "    \"wandb\",\n",
    "    \"torch\",\n",
    "    \"torch_xla\"\n",
    "]\n",
    "\n",
    "subprocess.run([sys.executable, \"-m\", \"pip\", \"install\", \"-q\", \"--upgrade\"] + requirements)\n",
    "\n",
    "hf_token = os.environ.get(\"HF_TOKEN\")\n",
    "if hf_token:\n",
    "    subprocess.run([sys.executable, \"-m\", \"huggingface_hub.cli\", \"login\", \"--token\", hf_token])\n",
    "else:\n",
    "    print(\"HF_TOKEN not found in environment variables.\")\n",
    "\n",
    "wandb_api_key = os.environ.get(\"WANDB_API_KEY\")\n",
    "if wandb_api_key:\n",
    "    import wandb\n",
    "    wandb.login(key=wandb_api_key)\n",
    "else:\n",
    "    print(\"WANDB_API_KEY not found in environment variables.\")"
   ]
  }
 ],
 "metadata": {
  "kernelspec": {
   "display_name": ".venv (3.13.7)",
   "language": "python",
   "name": "python3"
  },
  "language_info": {
   "codemirror_mode": {
    "name": "ipython",
    "version": 3
   },
   "file_extension": ".py",
   "mimetype": "text/x-python",
   "name": "python",
   "nbconvert_exporter": "python",
   "pygments_lexer": "ipython3",
   "version": "3.13.7"
  }
 },
 "nbformat": 4,
 "nbformat_minor": 5
}
