{
 "cells": [
  {
   "cell_type": "code",
   "execution_count": null,
   "id": "34ffa0bb",
   "metadata": {},
   "outputs": [],
   "source": [
    "import warnings\n",
    "import os\n",
    "import re\n",
    "\n",
    "warnings.filterwarnings(\"ignore\")\n",
    "os.environ[\"TOKENIZERS_PARALLELISM\"] = \"false\"\n",
    "\n",
    "import subprocess\n",
    "import sys\n",
    "\n",
    "def install_packages(packages):\n",
    "    subprocess.run([sys.executable, \"-m\", \"pip\", \"install\", \"-q\", \"--upgrade\"] + packages, stdout=subprocess.DEVNULL)\n",
    "\n",
    "install_packages([\n",
    "    \"pip\",  \n",
    "    \"transformers\",\n",
    "    \"accelerate\",\n",
    "    \"datasets\",\n",
    "    \"sentencepiece\",\n",
    "    \"PyPDF2\",\n",
    "    \"tqdm\",\n",
    "    \"wandb\",\n",
    "    \"torch\",\n",
    "    \"torch_xla\"\n",
    "])\n",
    "\n",
    "import torch\n",
    "import wandb\n",
    "import PyPDF2"
   ]
  }
 ],
 "metadata": {
  "kernelspec": {
   "display_name": ".venv (3.13.7)",
   "language": "python",
   "name": "python3"
  },
  "language_info": {
   "name": "python",
   "version": "3.13.7"
  }
 },
 "nbformat": 4,
 "nbformat_minor": 5
}
